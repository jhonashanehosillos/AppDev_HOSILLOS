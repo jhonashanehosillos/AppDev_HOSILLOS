{
  "nbformat": 4,
  "nbformat_minor": 0,
  "metadata": {
    "colab": {
      "provenance": [],
      "gpuType": "T4"
    },
    "kernelspec": {
      "name": "python3",
      "display_name": "Python 3"
    },
    "language_info": {
      "name": "python"
    },
    "accelerator": "GPU"
  },
  "cells": [
    {
      "cell_type": "code",
      "execution_count": 1,
      "metadata": {
        "colab": {
          "base_uri": "https://localhost:8080/"
        },
        "id": "-ISgE3SRstyH",
        "outputId": "68d48880-4de7-4df2-99e6-3bdeebd9130c"
      },
      "outputs": [
        {
          "output_type": "stream",
          "name": "stdout",
          "text": [
            "Mounted at /content/drive\n"
          ]
        }
      ],
      "source": [
        "from google.colab import drive\n",
        "drive.mount('/content/drive')"
      ]
    },
    {
      "cell_type": "markdown",
      "source": [
        "# **EXERCISE 1**"
      ],
      "metadata": {
        "id": "SxQJGRgQvle2"
      }
    },
    {
      "cell_type": "markdown",
      "source": [
        "**Write a program that uses input to prompt a user for their name and then welcomes them.**\n",
        "```\n",
        "Enter your name: Chuck\n",
        "Hello Chuck\n",
        "```\n",
        ":"
      ],
      "metadata": {
        "id": "m1J6LmJYvRkl"
      }
    },
    {
      "cell_type": "code",
      "source": [
        "name = input('Enter your Name:') #we initilaze first the variable \"name\" then the input of your name that you wanted to enter\n",
        "print('Hello', name) #it prints the name that you input"
      ],
      "metadata": {
        "colab": {
          "base_uri": "https://localhost:8080/"
        },
        "id": "rUVeWo0IvP2c",
        "outputId": "3ce87c43-7920-414a-d595-0189121a6a5f"
      },
      "execution_count": 2,
      "outputs": [
        {
          "output_type": "stream",
          "name": "stdout",
          "text": [
            "Enter your Name:Chunk\n",
            "Hello Chunk\n"
          ]
        }
      ]
    },
    {
      "cell_type": "markdown",
      "source": [
        "# **EXERCISE 2**"
      ],
      "metadata": {
        "id": "FrMU_fb2vjPN"
      }
    },
    {
      "cell_type": "markdown",
      "source": [
        "**Write a program to prompt the user for hours and rate per hour to compute gross pay.**\n",
        "```\n",
        "Enter Hours: 35\n",
        "Enter Rate: 2.75\n",
        "Pay: 96.25\n",
        "```"
      ],
      "metadata": {
        "id": "Y6RuRPJxwIfm"
      }
    },
    {
      "cell_type": "code",
      "source": [
        "hrs = input(\"Enter Hours:\") #initialize the variable hrs\n",
        "rate = input(\"Enter Rate:\") #initialize the variable rate\n",
        "pay = float(hrs) * float(rate) #to compute the gross pay of the user\n",
        "print(\"pay\", pay) #to print the gross pay of the user"
      ],
      "metadata": {
        "id": "ZxdRnljbvw6W",
        "colab": {
          "base_uri": "https://localhost:8080/"
        },
        "outputId": "80472922-b614-4d4c-ac8f-b37121929a90"
      },
      "execution_count": 3,
      "outputs": [
        {
          "output_type": "stream",
          "name": "stdout",
          "text": [
            "Enter Hours:35\n",
            "Enter Rate:2.75\n",
            "pay 96.25\n"
          ]
        }
      ]
    },
    {
      "cell_type": "markdown",
      "source": [
        "# **EXERCISE 3**"
      ],
      "metadata": {
        "id": "BEOy8pm41UhY"
      }
    },
    {
      "cell_type": "markdown",
      "source": [
        "**Assume that we execute the following assignment statements:**\n",
        "```python\n",
        "width = 17\n",
        "height = 12.0\n",
        "```\n",
        "**For each of the following expressions, write the value of the expression and the type (of the value of the expression).**\n",
        "```python\n",
        "width//2\n",
        "width/2.0\n",
        "height/3\n",
        "1 + 2 * 5\n",
        "```"
      ],
      "metadata": {
        "id": "4kJvUzLOxzYv"
      }
    },
    {
      "cell_type": "code",
      "source": [
        "width = 17 # the value of the width is being determined\n",
        "height = 12.0 # the value of the heighth is being determined\n",
        "\n",
        "exp_1 = width // 2 # to assign the result of this integer to the width //2 whic result the value og the expression is 8\n",
        "exp_2 = width / 2.0 #  to assign the result of this float to the width //2 whic result the value og the expression is 8.5\n",
        "exp_3 = height / 3 #  to assign the result of this float to the width //2 whic result the value og the expression is 4.0\n",
        "exp_4 = 1 + 2 * 5 # the assigned integer will be computed to 11\n",
        "\n",
        "print(\"Expression 1:\", exp_1, type(exp_1)) # dispalying result\n",
        "print(\"Expression 2:\", exp_2, type(exp_2)) # dispalying result\n",
        "print(\"Expression 3:\", exp_3, type(exp_3)) # dispalying result\n",
        "print(\"Expression 4:\", exp_4, type(exp_4)) # dispalying result"
      ],
      "metadata": {
        "id": "DrOoNzt5x422",
        "colab": {
          "base_uri": "https://localhost:8080/"
        },
        "outputId": "32663b84-72bb-486e-e3b7-4187c85831b7"
      },
      "execution_count": 4,
      "outputs": [
        {
          "output_type": "stream",
          "name": "stdout",
          "text": [
            "Expression 1: 8 <class 'int'>\n",
            "Expression 2: 8.5 <class 'float'>\n",
            "Expression 3: 4.0 <class 'float'>\n",
            "Expression 4: 11 <class 'int'>\n"
          ]
        }
      ]
    },
    {
      "cell_type": "markdown",
      "source": [
        "# **EXERCISE 4**"
      ],
      "metadata": {
        "id": "9ZWeP1E2x5Nm"
      }
    },
    {
      "cell_type": "markdown",
      "source": [
        "**Write a program that uses input to prompt a user for a number and then outputs the square of the number**"
      ],
      "metadata": {
        "id": "vuvdMAxHx5uG"
      }
    },
    {
      "cell_type": "markdown",
      "source": [
        "```\n",
        "Enter a number: 3\n",
        "The square of 3 is 9\n",
        "```"
      ],
      "metadata": {
        "id": "KFlVFChg7JU-"
      }
    },
    {
      "cell_type": "code",
      "source": [
        "nb = int(input(\"Enter a Number:\"))# intialize nb which is number that the user will input\n",
        "sqnb = nb * nb #to calculate the square number is equal to number * number\n",
        "print(f\"The square of {nb} is {sqnb}\") #display the answer\n"
      ],
      "metadata": {
        "id": "72Dve0Q4x5-3",
        "colab": {
          "base_uri": "https://localhost:8080/"
        },
        "outputId": "1aa58d55-1b6a-4755-8629-b11c651a2c25"
      },
      "execution_count": 5,
      "outputs": [
        {
          "output_type": "stream",
          "name": "stdout",
          "text": [
            "Enter a Number:3\n",
            "The square of 3 is 9\n"
          ]
        }
      ]
    },
    {
      "cell_type": "markdown",
      "source": [
        "# **CHALLENGES**"
      ],
      "metadata": {
        "id": "L4T2Psk1yUOj"
      }
    },
    {
      "cell_type": "markdown",
      "source": [
        "**Write a program which prompts the user for a Celsius temperature, convert the temperature to Fahrenheit, and print out the converted temperature.**"
      ],
      "metadata": {
        "id": "6HXL7o9sya9M"
      }
    },
    {
      "cell_type": "code",
      "source": [
        "cel = float(input(\"Enter the Temperature in Celsius:\")) # This line of code prompts the user to enter a temperature value in Celsius. The float() function is used to ensure the input is treated as a floating-point number, allowing for decimal values if necessary.\n",
        "fah = (cel * 9 / 5) + 32 #This line calculates the temperature in Fahrenheit using the given Celsius temperature.\n",
        "print(f\"Celsius {cel} in fahrenheit is {fah}\")  #his line prints the converted temperature value in both Celsius and Fahrenheit. The f before the string allows for the use of curly braces {} to insert the values of cel and fah into the string.\n"
      ],
      "metadata": {
        "id": "ylY1k7RzyejC",
        "colab": {
          "base_uri": "https://localhost:8080/"
        },
        "outputId": "f62ee0ce-93d3-4d91-bea0-40005c054c76"
      },
      "execution_count": 6,
      "outputs": [
        {
          "output_type": "stream",
          "name": "stdout",
          "text": [
            "Enter the Temperature in Celsius:90\n",
            "Celsius 90.0 in fahrenheit is 194.0\n"
          ]
        }
      ]
    }
  ]
}