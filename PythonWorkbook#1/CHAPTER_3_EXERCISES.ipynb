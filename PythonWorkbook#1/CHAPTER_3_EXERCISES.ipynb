{
  "nbformat": 4,
  "nbformat_minor": 0,
  "metadata": {
    "colab": {
      "provenance": []
    },
    "kernelspec": {
      "name": "python3",
      "display_name": "Python 3"
    },
    "language_info": {
      "name": "python"
    }
  },
  "cells": [
    {
      "cell_type": "code",
      "execution_count": 1,
      "metadata": {
        "id": "YfLK39lbnDsy",
        "colab": {
          "base_uri": "https://localhost:8080/"
        },
        "outputId": "e4264d8e-c149-429c-c40f-dd05f60af862"
      },
      "outputs": [
        {
          "output_type": "stream",
          "name": "stdout",
          "text": [
            "Mounted at /content/drive\n"
          ]
        }
      ],
      "source": [
        "from google.colab import drive\n",
        "drive.mount('/content/drive')"
      ]
    },
    {
      "cell_type": "markdown",
      "source": [
        "# **EXERCISE 1**"
      ],
      "metadata": {
        "id": "XbGmcEP_nK4G"
      }
    },
    {
      "cell_type": "markdown",
      "source": [
        "In the code below, which will never print regardless of the value for x? Edit the code to correct the error.\n",
        "\n",
        "```python\n",
        "if x > 0 :\n",
        "    print('Above 0')\n",
        "elif x >  10 :\n",
        "    print('Above 10')\n",
        "elif x > 50 :\n",
        "    print('Above 50')\n",
        "elif x >  20 :\n",
        "    print('Above 20')\n",
        "else :\n",
        "    print('Something else')\n",
        "```\n"
      ],
      "metadata": {
        "id": "P071yu0_nMXx"
      }
    },
    {
      "cell_type": "code",
      "source": [
        "x = 30\n",
        "\n",
        "if x > 50:\n",
        "    print('Above 50')\n",
        "elif x > 20:\n",
        "    print('Above 20')\n",
        "elif x > 10:\n",
        "    print('Above 10')\n",
        "elif x > 0:\n",
        "    print('Above 0')\n",
        "else:\n",
        "    print('Something else')"
      ],
      "metadata": {
        "colab": {
          "base_uri": "https://localhost:8080/"
        },
        "id": "i8QOz-SnnL2i",
        "outputId": "b8c46b1d-89b0-4aed-c78e-bfd22f6d4a28"
      },
      "execution_count": 2,
      "outputs": [
        {
          "output_type": "stream",
          "name": "stdout",
          "text": [
            "Above 20\n"
          ]
        }
      ]
    },
    {
      "cell_type": "markdown",
      "source": [
        "# **EXERCISE 2**"
      ],
      "metadata": {
        "id": "7CfEzZHhnWhn"
      }
    },
    {
      "cell_type": "markdown",
      "source": [
        "Write your salary computation to give an employee 1.5 times the hourly rate for hours worked above 40 hours. Example:\n",
        "\n",
        "    Enter Hours: 45\n",
        "    Enter Rate: 10\n",
        "    Pay: 475.0\n",
        "    "
      ],
      "metadata": {
        "id": "hu92xU6TnbjA"
      }
    },
    {
      "cell_type": "code",
      "source": [
        "hrs = float(input(\"Enter Hours: \"))  # initialize the variable hrs\n",
        "rate = float(input(\"Enter Rate: \"))  # initialize the variable rate\n",
        "\n",
        "if hrs <= 40:\n",
        "    pay = hrs * rate\n",
        "else:\n",
        "    pay = 40 * rate + (hrs - 40) * rate * 1.5  # to compute the gross pay of the user\n",
        "print(\"Pay:\", pay)  # to print the gross pay of the user\n"
      ],
      "metadata": {
        "id": "lDZQ-i0mnb93",
        "colab": {
          "base_uri": "https://localhost:8080/"
        },
        "outputId": "a372fc53-214d-48ff-93cd-212bc4fda6e2"
      },
      "execution_count": 23,
      "outputs": [
        {
          "output_type": "stream",
          "name": "stdout",
          "text": [
            "Enter Hours: 45\n",
            "Enter Rate: 10\n",
            "Pay: 475.0\n"
          ]
        }
      ]
    },
    {
      "cell_type": "markdown",
      "source": [
        "# **CHALLENGES**"
      ],
      "metadata": {
        "id": "DFjHhuXpnhfd"
      }
    },
    {
      "cell_type": "markdown",
      "source": [
        "Write a program to prompt for a score between 0 and 100 and print a grade using the following table:\n",
        "\n",
        "    Score           Grade\n",
        "    [ 97, 100]     1.0\n",
        "    [ 93,  97)\t1.25\n",
        "    [ 89,  93)\t 1.5\n",
        "    [ 85,  89)\t 1.75\n",
        "    [ 81,  85)\t 2.0\n",
        "    [ 77,  81)\t2.25\n",
        "    [ 74,  77)\t 2.5\n",
        "    [ 0,   74)\t 3.0\n",
        "**bold text**\n"
      ],
      "metadata": {
        "id": "yTsl4n1Anh6a"
      }
    },
    {
      "cell_type": "code",
      "source": [
        "score = float(input(\"Enter the score (between 0 and 100): \"))  # Prompt for the score\n",
        "\n",
        "# Determine the grade based on the score\n",
        "if 97 <= score <= 100:\n",
        "    grade = 1.0\n",
        "elif 93 <= score < 97:\n",
        "    grade = 1.25\n",
        "elif 89 <= score < 93:\n",
        "    grade = 1.5\n",
        "elif 85 <= score < 89:\n",
        "    grade = 1.75\n",
        "elif 81 <= score < 85:\n",
        "    grade = 2.0\n",
        "elif 77 <= score < 81:\n",
        "    grade = 2.25\n",
        "elif 74 <= score < 77:\n",
        "    grade = 2.5\n",
        "elif 0 <= score < 74:\n",
        "    grade = 3.0\n",
        "else:\n",
        "    print(\"Invalid score entered. Please enter a score between 0 and 100.\")\n",
        "\n",
        "\n",
        "print(\"Grade:\", grade)  # Print the corresponding grade\n"
      ],
      "metadata": {
        "id": "blBFisgfniNV",
        "colab": {
          "base_uri": "https://localhost:8080/"
        },
        "outputId": "97514e6e-849b-4dbf-e391-7b726d05da8b"
      },
      "execution_count": 25,
      "outputs": [
        {
          "output_type": "stream",
          "name": "stdout",
          "text": [
            "Enter the score (between 0 and 100): 88\n",
            "Grade: 1.75\n"
          ]
        }
      ]
    }
  ]
}