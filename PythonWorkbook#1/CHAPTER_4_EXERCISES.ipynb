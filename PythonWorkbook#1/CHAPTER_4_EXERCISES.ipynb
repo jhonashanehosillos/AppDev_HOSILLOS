{
  "nbformat": 4,
  "nbformat_minor": 0,
  "metadata": {
    "colab": {
      "provenance": []
    },
    "kernelspec": {
      "name": "python3",
      "display_name": "Python 3"
    },
    "language_info": {
      "name": "python"
    },
    "accelerator": "TPU"
  },
  "cells": [
    {
      "cell_type": "code",
      "execution_count": 2,
      "metadata": {
        "id": "QuKF207roO90",
        "colab": {
          "base_uri": "https://localhost:8080/"
        },
        "outputId": "b836c018-2332-46c9-ea5a-f147876e61b1"
      },
      "outputs": [
        {
          "output_type": "stream",
          "name": "stdout",
          "text": [
            "Mounted at /content/drive\n"
          ]
        }
      ],
      "source": [
        "from google.colab import drive\n",
        "drive.mount('/content/drive')"
      ]
    },
    {
      "cell_type": "markdown",
      "source": [
        "# **EXERCISE 1**"
      ],
      "metadata": {
        "id": "EmfFXOCboeu9"
      }
    },
    {
      "cell_type": "markdown",
      "source": [
        "Rewrite your pay computation with time-and-a-half for overtime and create a function called compute pay which takes two parameters (hours and rate).\n",
        "\n",
        "    Enter Hours: 45\n",
        "    Enter Rate: 10\n",
        "    Pay: 475.0\n",
        "    "
      ],
      "metadata": {
        "id": "i8HMq_OLofOE"
      }
    },
    {
      "cell_type": "code",
      "source": [
        "def compute_pay(hrs, rate): #The compute_pay function takes two parameters: hrs (hours worked) and rate (hourly rate).\n",
        "#to calculate the hrs and rate for the total of gross pay\n",
        "    if hrs <= 40:\n",
        "        pay = hrs * rate\n",
        "    else:\n",
        "        pay = 40 * rate + (hrs - 40) * (rate * 1.5)\n",
        "    return pay\n",
        "\n",
        "hrs = float(input(\"Enter Hours: \")) #inirializing the variable hrs\n",
        "rate = float(input(\"Enter Rate: \")) #inirializing the variable rate\n",
        "\n",
        "#to compute and print the gross pay\n",
        "pay = compute_pay(hrs, rate)\n",
        "print(\"Pay:\", pay)\n"
      ],
      "metadata": {
        "id": "2vbmqpzRofiV",
        "colab": {
          "base_uri": "https://localhost:8080/"
        },
        "outputId": "b81eb7cb-281a-48d7-fc20-2c901f08ce12"
      },
      "execution_count": 4,
      "outputs": [
        {
          "output_type": "stream",
          "name": "stdout",
          "text": [
            "Enter Hours: 45\n",
            "Enter Rate: 10\n",
            "Pay: 475.0\n"
          ]
        }
      ]
    },
    {
      "cell_type": "markdown",
      "source": [
        "# **CHALLENGES**"
      ],
      "metadata": {
        "id": "5pxVST0pogD2"
      }
    },
    {
      "cell_type": "markdown",
      "source": [
        "Write a function called computegrade that takes a score as its parameter and returns a grade as a string using the following table:\n",
        "\n",
        "    Score           Grade\n",
        "    [ 97, 100]      1.0\n",
        "    [ 93,  97)\t\t1.25\n",
        "    [ 89,  93)\t\t1.5\n",
        "    [ 85,  89)\t\t1.75\n",
        "    [ 81,  85)\t\t2.0\n",
        "    [ 77,  81)\t\t2.25\n",
        "    [ 74,  77)\t\t2.5\n",
        "    [ 0,   74)\t\t3.0\n",
        "\n",
        "    Run the program repeatedly to test the various different values for input."
      ],
      "metadata": {
        "id": "fL2wjb3jogkI"
      }
    },
    {
      "cell_type": "code",
      "source": [
        "def computegrade(score): # Prompt for the score of the computergrade\n",
        "\n",
        "# Determine the grade based on the score\n",
        "    if 97 <= score <= 100:\n",
        "        return \"1.0\"\n",
        "    elif 93 <= score < 97:\n",
        "        return \"1.25\"\n",
        "    elif 89 <= score < 93:\n",
        "        return \"1.5\"\n",
        "    elif 85 <= score < 89:\n",
        "        return \"1.75\"\n",
        "    elif 81 <= score < 85:\n",
        "        return \"2.0\"\n",
        "    elif 77 <= score < 81:\n",
        "        return \"2.25\"\n",
        "    elif 74 <= score < 77:\n",
        "        return \"2.5\"\n",
        "    else:\n",
        "        return \"3.0\"\n",
        "\n",
        "score = float(input(\"Enter the score between 0 and 100: \"))\n",
        "\n",
        "grade = computegrade(score) #calling the computegrade function with the score\n",
        "print(\"'Grade: \", grade) # Print the corresponding grade\n"
      ],
      "metadata": {
        "id": "Q5bDaxxPohAj",
        "colab": {
          "base_uri": "https://localhost:8080/"
        },
        "outputId": "2b28949c-5237-41ae-9a82-f38559fe9f88"
      },
      "execution_count": 6,
      "outputs": [
        {
          "output_type": "stream",
          "name": "stdout",
          "text": [
            "Enter the score between 0 and 100: 90\n",
            "'Grade:  1.5\n"
          ]
        }
      ]
    }
  ]
}