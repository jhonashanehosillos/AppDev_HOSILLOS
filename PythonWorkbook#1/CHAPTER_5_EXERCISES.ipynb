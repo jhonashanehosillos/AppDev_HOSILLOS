{
  "cells": [
    {
      "cell_type": "code",
      "execution_count": 3,
      "metadata": {
        "colab": {
          "base_uri": "https://localhost:8080/"
        },
        "id": "Z9ntBWLpoT4b",
        "outputId": "3523547d-ed5a-4327-ca06-b7070d388e78"
      },
      "outputs": [
        {
          "output_type": "stream",
          "name": "stdout",
          "text": [
            "Mounted at /content/drive\n"
          ]
        }
      ],
      "source": [
        "from google.colab import drive\n",
        "drive.mount('/content/drive')"
      ]
    },
    {
      "cell_type": "markdown",
      "metadata": {
        "id": "LYeaDgu-o3R6"
      },
      "source": [
        "# **EXERCISE 1**"
      ]
    },
    {
      "cell_type": "markdown",
      "metadata": {
        "id": "uCX8eefBo3p2"
      },
      "source": [
        "Investigate on the difference between `is` and `==` given the following variables.\n",
        "```python\n",
        "a = 2\n",
        "b = 2.0\n",
        "c = a\n",
        "```"
      ]
    },
    {
      "cell_type": "code",
      "execution_count": 4,
      "metadata": {
        "colab": {
          "base_uri": "https://localhost:8080/"
        },
        "id": "6-ijXKpoo3-m",
        "outputId": "619d6ae0-f4b9-4fb3-8711-90aca3b8da2b"
      },
      "outputs": [
        {
          "output_type": "stream",
          "name": "stdout",
          "text": [
            "False\n",
            "True\n",
            "True\n",
            "True\n"
          ]
        }
      ],
      "source": [
        "#define the variable a,b, and c with the same value\n",
        "a = 2\n",
        "b = 2.0\n",
        "\n",
        "\n",
        "print(a is b) # Checks if a and b reference the same object\n",
        "print(a == b)  # Checks if the values of a and b are equal\n",
        "\n",
        "c = a\n",
        "\n",
        "print(c is a) # Checks if c and a reference the same object\n",
        "print(c == b)  # Checks if the values of c and b are equal"
      ]
    },
    {
      "cell_type": "markdown",
      "metadata": {
        "id": "F6fary8MpA1l"
      },
      "source": [
        "# **CHALLENGES**"
      ]
    },
    {
      "cell_type": "markdown",
      "metadata": {
        "id": "sbS_K2IHo4VO"
      },
      "source": [
        "# **CHALLENGE 1**"
      ]
    },
    {
      "cell_type": "markdown",
      "metadata": {
        "id": "QwjRkB-No4sm"
      },
      "source": [
        "Write a program which repeatedly reads numbers until the user enters \"done\". Once \"done\" is entered, print out the total, count, and average of the numbers. If the user enters anything other than a number, detect their mistake using try and except and print an error message and skip to the next number.\n",
        "\n",
        "    Enter a number: 4\n",
        "    Enter a number: 5\n",
        "    Enter a number: bad data\n",
        "    Invalid input\n",
        "    Enter a number: 7\n",
        "    Enter a number: done\n",
        "    16 3 5.333333333333333"
      ]
    },
    {
      "cell_type": "code",
      "execution_count": 5,
      "metadata": {
        "colab": {
          "base_uri": "https://localhost:8080/"
        },
        "id": "aQ4NS-WQo8Y5",
        "outputId": "78d28dc2-09bd-44f6-dba8-0c35ab592e9a"
      },
      "outputs": [
        {
          "output_type": "stream",
          "name": "stdout",
          "text": [
            "Enter a Number: 4\n",
            "Enter a Number: 5\n",
            "Enter a Number: bad data\n",
            "Invalid Input!\n",
            "Enter a Number: 7\n",
            "Enter a Number: done\n",
            "16.0 3 5.333333333333333\n"
          ]
        }
      ],
      "source": [
        "total = 0\n",
        "count = 0\n",
        "\n",
        "while True:\n",
        "    respns = input(\"Enter a Number: \") # Prompt the user to input a number\n",
        "\n",
        "    if respns.lower() == \"done\": # Check if the user wants to exit the loop\n",
        "        break\n",
        "\n",
        "    try:\n",
        "        num = float(respns) # Convert the user input to a floating-point number\n",
        "    except ValueError:\n",
        "        print(\"Invalid Input!\")  #Handle the case when user enters invalid input\n",
        "        continue  # Continue to the next iteration of the loop if input is invalid\n",
        "\n",
        "\n",
        "    total += num # Add the number to the running total\n",
        "    count += 1  # Increment the count of numbers entered\n",
        "\n",
        "\n",
        "if count == 0:\n",
        "    print(\"No numbers were entered.\") # If no numbers were entered, print a message\n",
        "else:\n",
        "  #to calculate the ave\n",
        "    ave = total / count\n",
        "  #to print the total,count, and average\n",
        "    print( total, count , ave)\n",
        "\n"
      ]
    },
    {
      "cell_type": "markdown",
      "metadata": {
        "id": "UCiTwBWlo9lA"
      },
      "source": [
        "# **CHALLENGE 2**"
      ]
    },
    {
      "cell_type": "markdown",
      "metadata": {
        "id": "RHWKNu2qo_Ha"
      },
      "source": [
        "Write another program that prompts for a list of numbers as above and at the end prints out both the maximum and minimum of the numbers instead of the average."
      ]
    },
    {
      "cell_type": "code",
      "execution_count": 4,
      "metadata": {
        "colab": {
          "base_uri": "https://localhost:8080/"
        },
        "id": "8VWQZ1fpo_bY",
        "outputId": "a8b770aa-d682-4519-98cb-172bc30d3fc7"
      },
      "outputs": [
        {
          "output_type": "stream",
          "name": "stdout",
          "text": [
            "Enter a Number: 10\n",
            "Enter a Number: 30\n",
            "Enter a Number: 40\n",
            "Enter a Number: 5\n",
            "Enter a Number: done\n",
            "The Maximum Number is: 40.0\n",
            "The Minimum Number is: 5.0\n"
          ]
        }
      ],
      "source": [
        "max_num = None\n",
        "min_num = None\n",
        "\n",
        "while True:\n",
        "    num = input(\"Enter a Number: \")  # Prompt the user to input a number\n",
        "    if num == \"done\":  # Check if the user wants to exit the loop\n",
        "        break\n",
        "\n",
        "    try:\n",
        "        num = float(num)  # Convert the user input to a floating-point number\n",
        "        if max_num is None or num > max_num:\n",
        "            max_num = num  # Update maximum number if the current number is greater\n",
        "        if min_num is None or num < min_num:\n",
        "            min_num = num  # Update minimum number if the current number is smaller\n",
        "    except ValueError:\n",
        "        print(\"Invalid Input. Please Enter a Number\")  # Handle the case when the user enters invalid input\n",
        "        continue  # Continue to the next iteration of the loop if input is invalid\n",
        "\n",
        "# Check if any valid numbers were entered\n",
        "if max_num is not None and min_num is not None:\n",
        "    print(\"The Maximum Number is:\", max_num)  # Print the maximum number\n",
        "    print(\"The Minimum Number is:\", min_num)  # Print the minimum number\n",
        "else:\n",
        "    print(\"No valid numbers were entered.\")  # Print a message if no valid numbers were entered\n"
      ]
    }
  ],
  "metadata": {
    "colab": {
      "provenance": []
    },
    "kernelspec": {
      "display_name": "Python 3",
      "name": "python3"
    },
    "language_info": {
      "name": "python"
    }
  },
  "nbformat": 4,
  "nbformat_minor": 0
}