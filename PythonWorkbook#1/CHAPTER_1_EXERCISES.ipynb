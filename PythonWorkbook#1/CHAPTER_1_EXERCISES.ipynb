{
  "nbformat": 4,
  "nbformat_minor": 0,
  "metadata": {
    "colab": {
      "provenance": []
    },
    "kernelspec": {
      "name": "python3",
      "display_name": "Python 3"
    },
    "language_info": {
      "name": "python"
    }
  },
  "cells": [
    {
      "cell_type": "code",
      "execution_count": null,
      "metadata": {
        "colab": {
          "base_uri": "https://localhost:8080/"
        },
        "id": "GC2QPuxiuP4N",
        "outputId": "ddc42579-79a7-4525-f033-c1d22dc81f0f"
      },
      "outputs": [
        {
          "output_type": "stream",
          "name": "stdout",
          "text": [
            "Drive already mounted at /content/drive; to attempt to forcibly remount, call drive.mount(\"/content/drive\", force_remount=True).\n"
          ]
        }
      ],
      "source": [
        "from google.colab import drive\n",
        "drive.mount('/content/drive')"
      ]
    },
    {
      "cell_type": "markdown",
      "source": [
        "# **EXERCISE 1**"
      ],
      "metadata": {
        "id": "MUSVHg6RufA9"
      }
    },
    {
      "cell_type": "code",
      "source": [
        "Print('Hello world!')"
      ],
      "metadata": {
        "id": "vPtl-kPTzR6c"
      },
      "execution_count": null,
      "outputs": []
    },
    {
      "cell_type": "markdown",
      "source": [
        "MODIFIED CODE"
      ],
      "metadata": {
        "id": "X-cosdOz3KT0"
      }
    },
    {
      "cell_type": "code",
      "source": [
        "print('Hello world!')"
      ],
      "metadata": {
        "colab": {
          "base_uri": "https://localhost:8080/"
        },
        "id": "bDQaGoAcufjV",
        "outputId": "d268efe8-6b40-4a2c-f52c-92536849557a"
      },
      "execution_count": null,
      "outputs": [
        {
          "output_type": "stream",
          "name": "stdout",
          "text": [
            "Hello world!\n"
          ]
        }
      ]
    },
    {
      "cell_type": "markdown",
      "source": [
        "Explanation 1: the error is in Print. The letter p should be small letter not a capital letter P\n",
        "\n",
        "\n"
      ],
      "metadata": {
        "id": "B_sZCjqxu95M"
      }
    },
    {
      "cell_type": "code",
      "source": [
        "print'Hello world!')"
      ],
      "metadata": {
        "id": "0aZI2q9pzWo7"
      },
      "execution_count": null,
      "outputs": []
    },
    {
      "cell_type": "markdown",
      "source": [
        "MODIFIED CODE"
      ],
      "metadata": {
        "id": "aDjaJQGH3Oqr"
      }
    },
    {
      "cell_type": "code",
      "source": [
        "print('Hello world!')"
      ],
      "metadata": {
        "colab": {
          "base_uri": "https://localhost:8080/"
        },
        "id": "CwwkUnVeuuDG",
        "outputId": "0c06b8f5-ad8e-4e1a-aed4-70e2e57bbbbd"
      },
      "execution_count": null,
      "outputs": [
        {
          "output_type": "stream",
          "name": "stdout",
          "text": [
            "Hello world!\n"
          ]
        }
      ]
    },
    {
      "cell_type": "markdown",
      "source": [
        "Explanation 2: *the* parenthesis should be 2 not one like this: print('any name')"
      ],
      "metadata": {
        "id": "MUfojfalvRn7"
      }
    },
    {
      "cell_type": "code",
      "source": [
        "print('Hello world!)"
      ],
      "metadata": {
        "id": "sAMvP63rza1z"
      },
      "execution_count": null,
      "outputs": []
    },
    {
      "cell_type": "markdown",
      "source": [
        "MODIFIED CODE"
      ],
      "metadata": {
        "id": "UE4Z8_kD3ROk"
      }
    },
    {
      "cell_type": "code",
      "source": [
        "print('Hello world!')"
      ],
      "metadata": {
        "colab": {
          "base_uri": "https://localhost:8080/"
        },
        "id": "CeASuSa2uxeG",
        "outputId": "0a62d744-96cd-4c9f-f4ad-65952ff676cc"
      },
      "execution_count": null,
      "outputs": [
        {
          "output_type": "stream",
          "name": "stdout",
          "text": [
            "Hello world!\n"
          ]
        }
      ]
    },
    {
      "cell_type": "markdown",
      "source": [
        "Explanation 3: The error is in print('Hello world!). It should be like this: print('Hello world!') the quotation should be 2 single quotation both left and right not only 1"
      ],
      "metadata": {
        "id": "7xt3-bxQvzKN"
      }
    },
    {
      "cell_type": "code",
      "source": [
        "print('Hello world!'')"
      ],
      "metadata": {
        "id": "X66-OKq2zc0z"
      },
      "execution_count": null,
      "outputs": []
    },
    {
      "cell_type": "markdown",
      "source": [
        "MODIFIED CODE"
      ],
      "metadata": {
        "id": "It64HlkZ3THb"
      }
    },
    {
      "cell_type": "code",
      "source": [
        "print('Hello world!')"
      ],
      "metadata": {
        "colab": {
          "base_uri": "https://localhost:8080/"
        },
        "id": "kD3IZ4XFuzSf",
        "outputId": "ec4e0494-1aaf-44cd-fa49-478c8f8cce9a"
      },
      "execution_count": null,
      "outputs": [
        {
          "output_type": "stream",
          "name": "stdout",
          "text": [
            "Hello world!\n"
          ]
        }
      ]
    },
    {
      "cell_type": "markdown",
      "source": [
        "# **EXERCISE** **2**"
      ],
      "metadata": {
        "id": "GTW9j2IB37Rt"
      }
    },
    {
      "cell_type": "markdown",
      "source": [
        "Explanation 4: The error is in ('Hello world!'') the quotation should be single not double. It should be like this print('Hello world!').\n",
        "\n",
        "\n",
        "\n"
      ],
      "metadata": {
        "id": "6xeozEr2woBd"
      }
    },
    {
      "cell_type": "code",
      "source": [
        "x = 43\n",
        "x = x + 1\n",
        "print(x)"
      ],
      "metadata": {
        "colab": {
          "base_uri": "https://localhost:8080/"
        },
        "id": "owp-Es0z3oES",
        "outputId": "02ce57b7-380b-4566-f3d7-17813cede352"
      },
      "execution_count": null,
      "outputs": [
        {
          "output_type": "stream",
          "name": "stdout",
          "text": [
            "44\n"
          ]
        }
      ]
    },
    {
      "cell_type": "markdown",
      "source": [
        "The output is 44, because we Initialze the x as 43 to solve for the formula of x= 43+1 that will print the output of 44"
      ],
      "metadata": {
        "id": "wHoFgm1n3o1i"
      }
    },
    {
      "cell_type": "markdown",
      "source": [
        "#***EXERCISE 3***"
      ],
      "metadata": {
        "id": "BzjL-4Qm4I2M"
      }
    },
    {
      "cell_type": "code",
      "source": [
        "x = 43\n",
        "x = X + 1\n",
        "print(x)"
      ],
      "metadata": {
        "id": "MN_7C3ot3v2C"
      },
      "execution_count": null,
      "outputs": []
    },
    {
      "cell_type": "markdown",
      "source": [
        "MODIFIED CODE"
      ],
      "metadata": {
        "id": "eXt1ITXi32aC"
      }
    },
    {
      "cell_type": "code",
      "source": [
        "x = 43\n",
        "x = x + 1\n",
        "print(x)"
      ],
      "metadata": {
        "colab": {
          "base_uri": "https://localhost:8080/"
        },
        "id": "LXOUAIeO3wi7",
        "outputId": "b407f915-07ff-4c24-b01c-074d9cb84a54"
      },
      "execution_count": null,
      "outputs": [
        {
          "output_type": "stream",
          "name": "stdout",
          "text": [
            "44\n"
          ]
        }
      ]
    }
  ]
}