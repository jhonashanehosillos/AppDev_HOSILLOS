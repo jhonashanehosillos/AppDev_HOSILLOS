{
  "cells": [
    {
      "cell_type": "code",
      "execution_count": 1,
      "metadata": {
        "colab": {
          "base_uri": "https://localhost:8080/"
        },
        "id": "EyLe5S_4Q9R1",
        "outputId": "87a122ce-ee63-4420-ba6c-a391f74c4ed5"
      },
      "outputs": [
        {
          "output_type": "stream",
          "name": "stdout",
          "text": [
            "Drive already mounted at /content/drive; to attempt to forcibly remount, call drive.mount(\"/content/drive\", force_remount=True).\n"
          ]
        }
      ],
      "source": [
        "from google.colab import drive\n",
        "drive.mount('/content/drive')"
      ]
    },
    {
      "cell_type": "code",
      "execution_count": 2,
      "metadata": {
        "colab": {
          "base_uri": "https://localhost:8080/"
        },
        "id": "_W2X778cm8tv",
        "outputId": "319d78fa-54b5-42c1-936e-d449dd0d17cf"
      },
      "outputs": [
        {
          "output_type": "stream",
          "name": "stdout",
          "text": [
            "/content/drive/MyDrive/Colab Notebooks\n"
          ]
        }
      ],
      "source": [
        "%cd /content/drive/MyDrive/Colab Notebooks"
      ]
    },
    {
      "cell_type": "code",
      "execution_count": 3,
      "metadata": {
        "id": "iRrArXaXnwUj"
      },
      "outputs": [],
      "source": [
        "file = open('Pepper.txt', 'w')\n",
        "file.write('My\\n')\n",
        "file.write('Peppernim\\n')\n",
        "file.close()"
      ]
    },
    {
      "cell_type": "markdown",
      "metadata": {
        "id": "tY-Nl61rRQxo"
      },
      "source": [
        "# **EXERCISES**\n",
        "\n",
        "# **EXERCISE 1**"
      ]
    },
    {
      "cell_type": "markdown",
      "metadata": {
        "id": "r3IL9qOsRYTX"
      },
      "source": [
        "`Write a program to read through a file and print the contents of the file (line by line) all in upper case.`\n",
        "\n",
        "from [PEW] E8-1"
      ]
    },
    {
      "cell_type": "code",
      "execution_count": 6,
      "metadata": {
        "colab": {
          "base_uri": "https://localhost:8080/"
        },
        "id": "la_oaDPJm5jY",
        "outputId": "44e5117e-4bd4-4b04-83a2-61295a757e9c"
      },
      "outputs": [
        {
          "output_type": "stream",
          "name": "stdout",
          "text": [
            "Enter the name of the file: /content/drive/MyDrive/Colab Notebooks/WORKBOOK2/Pepper.txt\n",
            "MY\n",
            "PEPPERNIM\n"
          ]
        }
      ],
      "source": [
        "file_name = input(\"Enter the name of the file: \")\n",
        "\n",
        "try:\n",
        "    with open(file_name, 'r') as file:\n",
        "        for line in file:\n",
        "            print(line.upper(), end='')\n",
        "except FileNotFoundError:\n",
        "    print(\"File not found.\")"
      ]
    },
    {
      "cell_type": "markdown",
      "metadata": {
        "id": "DDaMzwqZRh3Q"
      },
      "source": [
        "# **EXERCISE 2**"
      ]
    },
    {
      "cell_type": "markdown",
      "metadata": {
        "id": "vdlG99bgRiWJ"
      },
      "source": [
        "`Write a program to read through a file and output the number of lines in a file.`\n",
        "\n",
        "adapted from [PEW]"
      ]
    },
    {
      "cell_type": "code",
      "execution_count": 11,
      "metadata": {
        "colab": {
          "base_uri": "https://localhost:8080/"
        },
        "id": "btL2iTgaRirS",
        "outputId": "436e4fad-ba4b-4e94-899a-6f51ba34694b"
      },
      "outputs": [
        {
          "output_type": "stream",
          "name": "stdout",
          "text": [
            "Enter the name of the file: /content/drive/MyDrive/Colab Notebooks/WORKBOOK2/Pepper.txt\n",
            "Number of lines in the file: 2\n"
          ]
        }
      ],
      "source": [
        "file_name = input(\"Enter the name of the file: \")\n",
        "\n",
        "try:\n",
        "    with open(file_name, 'r') as file:\n",
        "        line_count = sum(1 for line in file)\n",
        "    print(\"Number of lines in the file:\", line_count)\n",
        "except FileNotFoundError:\n",
        "    print(\"File not found.\")"
      ]
    },
    {
      "cell_type": "markdown",
      "metadata": {
        "id": "zzSDvhxgRm1V"
      },
      "source": [
        "# **CHALLENGE**"
      ]
    },
    {
      "cell_type": "markdown",
      "metadata": {
        "id": "caftI-28RvT1"
      },
      "source": [
        "Write a program to prompt for a file name, and then read through the file and look for lines of the form:"
      ]
    },
    {
      "cell_type": "code",
      "execution_count": 12,
      "metadata": {
        "id": "D9oPp_xvRvqZ",
        "colab": {
          "base_uri": "https://localhost:8080/"
        },
        "outputId": "b2efc715-ebbe-416f-e1a8-a057f8761546"
      },
      "outputs": [
        {
          "output_type": "stream",
          "name": "stdout",
          "text": [
            "Enter the file name: /content/drive/MyDrive/Colab Notebooks/WORKBOOK2/Pepper.txt\n",
            "No lines with spam confidence found.\n"
          ]
        }
      ],
      "source": [
        "fileName = input(\"Enter the file name: \")\n",
        "total = 0.0\n",
        "count = 0\n",
        "try :\n",
        "    basa = open(fileName, 'r')\n",
        "    for line in basa :\n",
        "        if line.startswith(\"X-DSPAM-Confidence:\"):\n",
        "                confidence = float(line.split(\":\")[1].strip())\n",
        "                total += confidence\n",
        "                count += 1\n",
        "    if count > 0:\n",
        "        average = total / count\n",
        "        print(\"Average spam confidence:\",average)\n",
        "    else:\n",
        "        print(\"No lines with spam confidence found.\")\n",
        "    basa.close();\n",
        "except FileNotFoundError:\n",
        "    print(f\"File '{fileName}' not found.\")"
      ]
    }
  ],
  "metadata": {
    "colab": {
      "provenance": [],
      "gpuType": "T4"
    },
    "kernelspec": {
      "display_name": "Python 3",
      "name": "python3"
    },
    "language_info": {
      "name": "python"
    },
    "accelerator": "GPU"
  },
  "nbformat": 4,
  "nbformat_minor": 0
}