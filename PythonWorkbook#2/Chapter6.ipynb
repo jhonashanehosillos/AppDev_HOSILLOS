{
  "nbformat": 4,
  "nbformat_minor": 0,
  "metadata": {
    "colab": {
      "provenance": []
    },
    "kernelspec": {
      "name": "python3",
      "display_name": "Python 3"
    },
    "language_info": {
      "name": "python"
    }
  },
  "cells": [
    {
      "cell_type": "markdown",
      "source": [
        "# **PYTHON WORKBOOK2**"
      ],
      "metadata": {
        "id": "_cYU9urxPmAH"
      }
    },
    {
      "cell_type": "code",
      "execution_count": 1,
      "metadata": {
        "colab": {
          "base_uri": "https://localhost:8080/"
        },
        "id": "aS8N2aLrPTpz",
        "outputId": "524ea20b-6a31-4da7-d8a9-b6ba56a9f777"
      },
      "outputs": [
        {
          "output_type": "stream",
          "name": "stdout",
          "text": [
            "Mounted at /content/drive\n"
          ]
        }
      ],
      "source": [
        "from google.colab import drive\n",
        "drive.mount('/content/drive')"
      ]
    },
    {
      "cell_type": "markdown",
      "source": [
        "# **EXERCISE 1**"
      ],
      "metadata": {
        "id": "VLEcGzvmPkmU"
      }
    },
    {
      "cell_type": "markdown",
      "source": [
        "Given the code below    \n",
        "\n",
        "    text = 'Business Analytics'\n",
        "\n",
        "What will the following expressions produce?\n",
        "    \n",
        "    text[4]\n",
        "    text[2:4]\n",
        "    text[:4]\n",
        "    text[4:]\n",
        "    text[-2]\n",
        "    text[-4:-2]\n",
        "    text[-2:]\n",
        "    text[:-2]\n",
        "    "
      ],
      "metadata": {
        "id": "5dP7WE9rQB-5"
      }
    },
    {
      "cell_type": "code",
      "source": [
        "text = 'Business Analytics'\n",
        "\n",
        "print(text[4])\n",
        "print(text[2:4])\n",
        "print(text[:4])\n",
        "print(text[4:])\n",
        "print(text[-2])\n",
        "print(text[-4:-2])\n",
        "print(text[-2:])\n",
        "print(text[:-2])\n",
        "\n",
        "#EXPLAINATION\n",
        "#text[4]: This command will extract the character at index 4 from the text string.\n",
        " #So it will extract the characters at index 2 and 3.\n",
        " #This will output the substring “if”.\n",
        " #text[: 4]: This command will extract a substring  from the beginning of the string up to (but not including) index 4.\n",
        " #Therefore, it will extract characters at indexes 0, 1, 2 and 3 .\n",
        " #Substring 'Busi'.\n",
        " #text[4: ]: This command will extract a substring  from index 4  to the end of the string.\n",
        " #So it will extract characters starting from index 4.\n",
        " #This will result in the substring “ness Analytics”.\n",
        " #text[-2]: This command will extract the character at index -2 of the text string, counted from the end of the string.\n",
        " #So it will extract the second character from the end, which is “c”.\n",
        " #text[-4: -2]: This command will extract a substring starting with index -4 up to (but not including) index -2 of the text string, counting from the end of the string.\n",
        " #So it will extract the characters at index -4 and -3.\n",
        " #This will result in the substring “ic”.\n",
        " #text[-2: ]: This will extract a substring  from index -2  to the end of the string.\n",
        " #So it will extract characters starting from the 2nd character from the end.\n",
        " #This will result in the substring “cs”.\n",
        " #text[: -2]: This command will extract a substring starting from the beginning of the string up to (but not including) index -2, counting from the end of the string.\n",
        " #So it will extract all the characters except the last two.\n",
        " #This will result in the “Business Analytics” substring.\n",
        "\n"
      ],
      "metadata": {
        "colab": {
          "base_uri": "https://localhost:8080/"
        },
        "id": "pF8l5xxeQC5j",
        "outputId": "e4ba9425-a55e-4f43-da84-50ee351287dc"
      },
      "execution_count": 6,
      "outputs": [
        {
          "output_type": "stream",
          "name": "stdout",
          "text": [
            "n\n",
            "si\n",
            "Busi\n",
            "ness Analytics\n",
            "c\n",
            "ti\n",
            "cs\n",
            "Business Analyti\n"
          ]
        }
      ]
    },
    {
      "cell_type": "markdown",
      "source": [
        "# **EXERCISE 2**"
      ],
      "metadata": {
        "id": "x0Aszy_TQnvI"
      }
    },
    {
      "cell_type": "markdown",
      "source": [
        "Given the code below:\n",
        "    \n",
        "    phrase = 'One Ring to rule them all'\n",
        "\n",
        "What string slicing expression gives out the following words:\n",
        "\n",
        "    'One '\n",
        "    'Ring'\n",
        "    'all'\n",
        "    'them'\n",
        "    'One Ring to rule them all'"
      ],
      "metadata": {
        "id": "uy9XHfq3QstN"
      }
    },
    {
      "cell_type": "code",
      "source": [
        "phrase = 'One Ring to rule them all'\n",
        "\n",
        "'One '\n",
        "'Ring'\n",
        "'all'\n",
        "'them'\n",
        "'One Ring to rule them all'\n",
        "\n",
        "#EXPLAINATION\n",
        "#'One ':\n",
        "#The expression is phrase[:4]. This slice starts from the beginning of the string (index 0) and goes up to, but not including, the 4th character.\n",
        "\n",
        "#'Ring':\n",
        "#The expression is phrase[5:8]. This slice starts from the 6th character (index 5, as Python indexing starts from 0) and goes up to, but not including, the 8th character.\n",
        "\n",
        "#'all':\n",
        "#The expression is phrase[9:12]. This slice starts from the 10th character (index 9) and goes up to, but not including, the 12th character.\n",
        "\n",
        "#'them':\n",
        "#The expression is phrase[14:17]. This slice starts from the 16th character (index 14) and goes up to, but not including, the 17th character.\n",
        "\n",
        "#'One Ring to rule them all':\n",
        "#The expression is phrase. This slice includes the entire string from the beginning to the end."
      ],
      "metadata": {
        "colab": {
          "base_uri": "https://localhost:8080/",
          "height": 35
        },
        "id": "pQ72D4HFQxCu",
        "outputId": "f43243df-5c03-4c6d-9f21-635a41b91872"
      },
      "execution_count": 7,
      "outputs": [
        {
          "output_type": "execute_result",
          "data": {
            "text/plain": [
              "'One Ring to rule them all'"
            ],
            "application/vnd.google.colaboratory.intrinsic+json": {
              "type": "string"
            }
          },
          "metadata": {},
          "execution_count": 7
        }
      ]
    },
    {
      "cell_type": "markdown",
      "source": [
        "# **CHALLENGE**"
      ],
      "metadata": {
        "id": "A1WLML5WQxig"
      }
    },
    {
      "cell_type": "markdown",
      "source": [
        "Write a program which repeatedly reads a full name, then does the following:\n",
        "\n",
        "strips the name of any trailing spaces\n",
        "capitalizes the first letter\n",
        "puts the rest into smaller letters"
      ],
      "metadata": {
        "id": "mgJfzsgVQ2wu"
      }
    },
    {
      "cell_type": "code",
      "source": [
        "\n",
        "for i in range(10) : #The \"for\" loop executes 10 times, as specified by \"range(10)\".\n",
        "  name = input(\"Enter your full name: \") # In a loop, the program asks the user to enter their full name using the \"input()\" function.   In a loop, the program asks the user to enter their full name using the \"input()\" function. The entered name is stored in the variable \"name\". The entered name is stored in the variable \"name\".\n",
        "  if name == \"exit\" : #   Program checks whether the entered name is equal to \"exit\".\n",
        "      break #If so, the loop ends with a \"break\" statement.\n",
        "  print(name.strip().capitalize()) # If the entered name is not \"exit\", the program capitalizes the first letter and removes all leading or trailing spaces from the name using the \"strip()\" and \"capitalize()\" methods corresponding. Finally, the modified name is printed on the console.\n",
        "\n"
      ],
      "metadata": {
        "colab": {
          "base_uri": "https://localhost:8080/"
        },
        "id": "RUbFf7FGQ3en",
        "outputId": "6769e1d0-c6fc-41f5-93f7-0ab6cfb905f0"
      },
      "execution_count": 5,
      "outputs": [
        {
          "name": "stdout",
          "output_type": "stream",
          "text": [
            "Enter your full name: jhona shane hosillos\n",
            "Jhona shane hosillos\n",
            "Enter your full name: JHona shane\n",
            "Jhona shane\n",
            "Enter your full name: exit\n"
          ]
        }
      ]
    }
  ]
}