{
  "nbformat": 4,
  "nbformat_minor": 0,
  "metadata": {
    "colab": {
      "provenance": []
    },
    "kernelspec": {
      "name": "python3",
      "display_name": "Python 3"
    },
    "language_info": {
      "name": "python"
    }
  },
  "cells": [
    {
      "cell_type": "code",
      "execution_count": 2,
      "metadata": {
        "colab": {
          "base_uri": "https://localhost:8080/"
        },
        "id": "JqeXJGR6CYMP",
        "outputId": "2d539ce6-5b02-4dbc-cb34-f1e5d637e400"
      },
      "outputs": [
        {
          "output_type": "stream",
          "name": "stdout",
          "text": [
            "Mounted at /content/drive\n"
          ]
        }
      ],
      "source": [
        "from google.colab import drive\n",
        "drive.mount('/content/drive')"
      ]
    },
    {
      "cell_type": "markdown",
      "source": [
        "# **EXERCISES**"
      ],
      "metadata": {
        "id": "cVRjyegfJKk4"
      }
    },
    {
      "cell_type": "markdown",
      "source": [
        "# **EXERCISE 1**"
      ],
      "metadata": {
        "id": "6frwT_S_Jas-"
      }
    },
    {
      "cell_type": "markdown",
      "source": [
        "\n",
        "Create a dictionary with the following keys and values showing a partial list of Real GDP growth in Annual percent change from IMF (Source: http://www.imf.org/external/datamapper/NGDP_RPCH@WEO/OEMDC/ADVEC/WEOWORLD)\n",
        "\n",
        "\n",
        "    China 6.5\n",
        "    Japan 0.7\n",
        "    Philippines 6.7\n",
        "    United States 2.3"
      ],
      "metadata": {
        "id": "kKFm7wU3JLBO"
      }
    },
    {
      "cell_type": "code",
      "source": [
        "gdp_growth = {}\n",
        "gdp_growth['China'] : 6.5\n",
        "gdp_growth['Japan'] : 0.7\n",
        "gdp_growth['Philippines']  : 6.7\n",
        "gdp_growth['United States'] : 2.3\n",
        "\n",
        "\n",
        "\n"
      ],
      "metadata": {
        "id": "vJiB6R7_JeGb"
      },
      "execution_count": 11,
      "outputs": []
    },
    {
      "cell_type": "markdown",
      "source": [
        "# **EXERCISE 2**"
      ],
      "metadata": {
        "id": "O9vV6Hk1JecX"
      }
    },
    {
      "cell_type": "markdown",
      "source": [
        "Display all the keys and values from the dictionary you created above"
      ],
      "metadata": {
        "id": "nlToW2qyJmqO"
      }
    },
    {
      "cell_type": "code",
      "source": [
        "#print(GDP_growth)\n",
        "for key in gdp_growth:\n",
        "    print(key, gdp_growth[key])"
      ],
      "metadata": {
        "id": "Dpz_820CJnZ-",
        "colab": {
          "base_uri": "https://localhost:8080/"
        },
        "outputId": "f5bb1a6f-bd96-4b10-a0eb-d0ae917a3175"
      },
      "execution_count": 10,
      "outputs": [
        {
          "output_type": "stream",
          "name": "stdout",
          "text": [
            "China 6.5\n",
            "Japan 0.7\n",
            "Philippines 6.7\n",
            "United States 2.3\n"
          ]
        }
      ]
    },
    {
      "cell_type": "markdown",
      "source": [
        "# **EXERCISE 3**"
      ],
      "metadata": {
        "id": "d7SCd6kXJrFC"
      }
    },
    {
      "cell_type": "markdown",
      "source": [
        "Write a program that asks the user to enter a line of text and then counts the number of each word that appeared in the line of text.\n",
        "Use the string function `split()` to make a list of words from a given string\n",
        "e.g.:\n",
        "\n",
        "```python\n",
        "word_list = line.split()\n",
        "```\n",
        "\n",
        "will return a list of words from the string `line` and store it in the variable `word_list`.\n",
        "\n",
        "\n",
        "(Adapted from [PES])"
      ],
      "metadata": {
        "id": "EeKwXRhlJrlY"
      }
    },
    {
      "cell_type": "code",
      "source": [
        "line = input(\"Enter a line of text: \")  # Asking the user to enter a line of text\n",
        "word_list = line.split()  #To Split the lines in words\n",
        "\n",
        "word_counts = {}\n",
        "\n",
        "\n",
        "for word in word_list: # Counting the number of each words in the list\n",
        "\n",
        "    word_counts[word] = word_counts.get(word, 0) + 1 #To Increment the count\n",
        "\n",
        "\n",
        "for word, count in word_counts.items(): # Print the word counts\n",
        "    print(f\"'{word}' = {count}\")"
      ],
      "metadata": {
        "id": "4bnwIjXJJr98",
        "colab": {
          "base_uri": "https://localhost:8080/"
        },
        "outputId": "dcee9d3c-0a8e-4c00-ab90-83c217f8659d"
      },
      "execution_count": 14,
      "outputs": [
        {
          "output_type": "stream",
          "name": "stdout",
          "text": [
            "Enter a line of text: I am Jhona Shane Hosillos students of ISAT U main campus studying Bachelor of Science in Computer Science\n",
            "'I' = 1\n",
            "'am' = 1\n",
            "'Jhona' = 1\n",
            "'Shane' = 1\n",
            "'Hosillos' = 1\n",
            "'students' = 1\n",
            "'of' = 2\n",
            "'ISAT' = 1\n",
            "'U' = 1\n",
            "'main' = 1\n",
            "'campus' = 1\n",
            "'studying' = 1\n",
            "'Bachelor' = 1\n",
            "'Science' = 2\n",
            "'in' = 1\n",
            "'Computer' = 1\n"
          ]
        }
      ]
    }
  ]
}