{
  "nbformat": 4,
  "nbformat_minor": 0,
  "metadata": {
    "colab": {
      "provenance": []
    },
    "kernelspec": {
      "name": "python3",
      "display_name": "Python 3"
    },
    "language_info": {
      "name": "python"
    }
  },
  "cells": [
    {
      "cell_type": "code",
      "execution_count": 2,
      "metadata": {
        "id": "fGFoKkfxKA2X",
        "colab": {
          "base_uri": "https://localhost:8080/"
        },
        "outputId": "17685f9c-75fd-491b-a8b0-a48bc8952a09"
      },
      "outputs": [
        {
          "output_type": "stream",
          "name": "stdout",
          "text": [
            "Mounted at /content/drive\n"
          ]
        }
      ],
      "source": [
        "from google.colab import drive\n",
        "drive.mount('/content/drive')"
      ]
    },
    {
      "cell_type": "markdown",
      "source": [
        "# **EXERCISES**"
      ],
      "metadata": {
        "id": "7eQAuAzvKKu4"
      }
    },
    {
      "cell_type": "markdown",
      "source": [
        "# **EXERCISE 1**"
      ],
      "metadata": {
        "id": "JBQQ9CnAKLCe"
      }
    },
    {
      "cell_type": "markdown",
      "source": [
        "Create a tuple with the following items: 1, 1, 2, 3, 5. Feed the tuple to the sum() built-in function and check the result"
      ],
      "metadata": {
        "id": "QzdHBfFPKPrN"
      }
    },
    {
      "cell_type": "code",
      "source": [
        "num = (1, 1, 2, 3, 5) # To create a tuple with the given items\n",
        "\n",
        "result = sum(num)\n",
        "\n",
        "# Print the result\n",
        "print(\"Sum: \" , result)\n",
        ""
      ],
      "metadata": {
        "id": "XJa0hMBdKLUl",
        "colab": {
          "base_uri": "https://localhost:8080/"
        },
        "outputId": "84dcb817-3ed0-4c13-c57e-271c700e900d"
      },
      "execution_count": 3,
      "outputs": [
        {
          "output_type": "stream",
          "name": "stdout",
          "text": [
            "Sum:  12\n"
          ]
        }
      ]
    },
    {
      "cell_type": "markdown",
      "source": [
        "# **EXERCISE 2**"
      ],
      "metadata": {
        "id": "O5scVvzoKXIb"
      }
    },
    {
      "cell_type": "markdown",
      "source": [
        "Unpack the following tuple into meaningful variables and display them\n",
        "\n",
        "```python\n",
        "ph_info = ('Philippines', 'Manila', 103.3) # The last number is the Population in Millions as of 2016\n",
        "```"
      ],
      "metadata": {
        "id": "TX9e46WnKXg6"
      }
    },
    {
      "cell_type": "code",
      "source": [
        "\n",
        "ph_info = ('Philippines', 'Manila', 103.3) # To Create a tuple with the given items\n",
        "\n",
        "country, city, population = ph_info # To Unpack the given tuple\n",
        "\n",
        "# Print\n",
        "print(\"Country:\", country)\n",
        "print(\"City:\" , city)\n",
        "print(\"Population in millions as of 2016:\", population)"
      ],
      "metadata": {
        "id": "sa6ZO7tzKYA0",
        "colab": {
          "base_uri": "https://localhost:8080/"
        },
        "outputId": "02895270-4c45-42fd-dee6-b7d58e03df59"
      },
      "execution_count": 4,
      "outputs": [
        {
          "output_type": "stream",
          "name": "stdout",
          "text": [
            "Country: Philippines\n",
            "City: Manila\n",
            "Population in millions as of 2016: 103.3\n"
          ]
        }
      ]
    }
  ]
}